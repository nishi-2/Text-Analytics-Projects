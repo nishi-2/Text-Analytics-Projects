{
 "cells": [
  {
   "cell_type": "markdown",
   "id": "4a89b55a-ec81-463a-a736-ffef7d14c6f9",
   "metadata": {},
   "source": [
    "## Sentiment Classification - A NLP Project"
   ]
  },
  {
   "cell_type": "markdown",
   "id": "e6d21e56-e048-47f5-abaa-44392c573371",
   "metadata": {},
   "source": [
    "This is a blog about NLP and Classification project. NLP is Natural Language Processing and is highly in demand right now. Let's understand how can you make use of NLP. We will understand the process and concept via coding. I will cover BagOfWords and n-gram in this blog alongwith Naive Bayes Classification model. The unique thing about this blog (which is making it long!) is that I have shown how we can select the right model for us based on the dataset in our hand. So, let's start."
   ]
  },
  {
   "cell_type": "markdown",
   "id": "1b4386c5",
   "metadata": {},
   "source": [
    "### Import the basic libraries"
   ]
  },
  {
   "cell_type": "markdown",
   "id": "bbb9570a-f22c-4f03-a9f3-d6d1b7f5598e",
   "metadata": {},
   "source": [
    "We will import the required libraries as our requirement comes up while coding. First, let us import pandas, numpy, matplotlib, seaborn, regex, and random library which are quite extensively used."
   ]
  },
  {
   "cell_type": "code",
   "execution_count": 99,
   "id": "ad0f4d5e",
   "metadata": {},
   "outputs": [],
   "source": [
    "import pandas as pd\n",
    "import numpy as np\n",
    "import matplotlib.pyplot as plt\n",
    "import seaborn as sns\n",
    "import random\n",
    "import regex as re\n",
    "\n",
    "#below code is for not showing up any warnings that might appear for the ongoing improvements in functions\n",
    "import warnings\n",
    "warnings.filterwarnings('ignore')"
   ]
  },
  {
   "cell_type": "markdown",
   "id": "c057acc0",
   "metadata": {},
   "source": [
    "### Import the dataset in the form of dataframe"
   ]
  },
  {
   "cell_type": "markdown",
   "id": "24030f2c-a76b-474c-96a4-f9be351170d4",
   "metadata": {},
   "source": [
    "I have downloaded a dataset on movie reviews from Kaggle. Movie dataset is the most commonly used dataset for sentiment classification learning. I will be showing you sentiment classification over live projects as well in a separate blog. Let's continue with our learning now."
   ]
  },
  {
   "cell_type": "code",
   "execution_count": 2,
   "id": "f72c45de",
   "metadata": {},
   "outputs": [],
   "source": [
    "#Reading the csv file into the dataframe\n",
    "\n",
    "df = pd.read_csv('movie.csv')"
   ]
  },
  {
   "cell_type": "code",
   "execution_count": 3,
   "id": "33102722-aab1-4a93-b3ab-1a9277ef26fa",
   "metadata": {},
   "outputs": [
    {
     "data": {
      "text/html": [
       "<div>\n",
       "<style scoped>\n",
       "    .dataframe tbody tr th:only-of-type {\n",
       "        vertical-align: middle;\n",
       "    }\n",
       "\n",
       "    .dataframe tbody tr th {\n",
       "        vertical-align: top;\n",
       "    }\n",
       "\n",
       "    .dataframe thead th {\n",
       "        text-align: right;\n",
       "    }\n",
       "</style>\n",
       "<table border=\"1\" class=\"dataframe\">\n",
       "  <thead>\n",
       "    <tr style=\"text-align: right;\">\n",
       "      <th></th>\n",
       "      <th>text</th>\n",
       "      <th>label</th>\n",
       "    </tr>\n",
       "  </thead>\n",
       "  <tbody>\n",
       "    <tr>\n",
       "      <th>0</th>\n",
       "      <td>I grew up (b. 1965) watching and loving the Th...</td>\n",
       "      <td>0</td>\n",
       "    </tr>\n",
       "    <tr>\n",
       "      <th>1</th>\n",
       "      <td>When I put this movie in my DVD player, and sa...</td>\n",
       "      <td>0</td>\n",
       "    </tr>\n",
       "    <tr>\n",
       "      <th>2</th>\n",
       "      <td>Why do people who do not know what a particula...</td>\n",
       "      <td>0</td>\n",
       "    </tr>\n",
       "    <tr>\n",
       "      <th>3</th>\n",
       "      <td>Even though I have great interest in Biblical ...</td>\n",
       "      <td>0</td>\n",
       "    </tr>\n",
       "    <tr>\n",
       "      <th>4</th>\n",
       "      <td>Im a die hard Dads Army fan and nothing will e...</td>\n",
       "      <td>1</td>\n",
       "    </tr>\n",
       "    <tr>\n",
       "      <th>5</th>\n",
       "      <td>A terrible movie as everyone has said. What ma...</td>\n",
       "      <td>0</td>\n",
       "    </tr>\n",
       "    <tr>\n",
       "      <th>6</th>\n",
       "      <td>Finally watched this shocking movie last night...</td>\n",
       "      <td>1</td>\n",
       "    </tr>\n",
       "    <tr>\n",
       "      <th>7</th>\n",
       "      <td>I caught this film on AZN on cable. It sounded...</td>\n",
       "      <td>0</td>\n",
       "    </tr>\n",
       "    <tr>\n",
       "      <th>8</th>\n",
       "      <td>It may be the remake of 1987 Autumn's Tale aft...</td>\n",
       "      <td>1</td>\n",
       "    </tr>\n",
       "    <tr>\n",
       "      <th>9</th>\n",
       "      <td>My Super Ex Girlfriend turned out to be a plea...</td>\n",
       "      <td>1</td>\n",
       "    </tr>\n",
       "  </tbody>\n",
       "</table>\n",
       "</div>"
      ],
      "text/plain": [
       "                                                text  label\n",
       "0  I grew up (b. 1965) watching and loving the Th...      0\n",
       "1  When I put this movie in my DVD player, and sa...      0\n",
       "2  Why do people who do not know what a particula...      0\n",
       "3  Even though I have great interest in Biblical ...      0\n",
       "4  Im a die hard Dads Army fan and nothing will e...      1\n",
       "5  A terrible movie as everyone has said. What ma...      0\n",
       "6  Finally watched this shocking movie last night...      1\n",
       "7  I caught this film on AZN on cable. It sounded...      0\n",
       "8  It may be the remake of 1987 Autumn's Tale aft...      1\n",
       "9  My Super Ex Girlfriend turned out to be a plea...      1"
      ]
     },
     "execution_count": 3,
     "metadata": {},
     "output_type": "execute_result"
    }
   ],
   "source": [
    "#Let's look into the first ten records\n",
    "\n",
    "df.head(10)  #if no parameter is provided then the head() function will show 5 records, else it will show as many as you will provide"
   ]
  },
  {
   "cell_type": "markdown",
   "id": "ffce526a-c07f-43fe-84b8-d08820505536",
   "metadata": {},
   "source": [
    "Now, remember that the sentiments marked as 1 are positive and those that are 0 are negative. This is how it has been labeled and you will get this information when you download it from the site. Now we will start exploring the dataset a bit."
   ]
  },
  {
   "cell_type": "code",
   "execution_count": 4,
   "id": "3fac5656-6714-4eb2-91a3-5cd696638a1d",
   "metadata": {},
   "outputs": [
    {
     "name": "stdout",
     "output_type": "stream",
     "text": [
      "<class 'pandas.core.frame.DataFrame'>\n",
      "RangeIndex: 8488 entries, 0 to 8487\n",
      "Data columns (total 2 columns):\n",
      " #   Column  Non-Null Count  Dtype \n",
      "---  ------  --------------  ----- \n",
      " 0   text    8488 non-null   object\n",
      " 1   label   8488 non-null   int64 \n",
      "dtypes: int64(1), object(1)\n",
      "memory usage: 132.8+ KB\n"
     ]
    }
   ],
   "source": [
    "# to get the information about the dataset\n",
    "\n",
    "df.info()"
   ]
  },
  {
   "cell_type": "markdown",
   "id": "794ffbfb-0d64-49ba-b906-d0ae0f4d89bb",
   "metadata": {},
   "source": [
    "The dataset is not containing Null data. Good for us! Let's move on to see the number of positive and negative feedbacks."
   ]
  },
  {
   "cell_type": "code",
   "execution_count": 5,
   "id": "3ebd71d3-131e-41f6-b974-4a72f861970a",
   "metadata": {},
   "outputs": [
    {
     "data": {
      "text/plain": [
       "label\n",
       "0    4318\n",
       "1    4170\n",
       "Name: count, dtype: int64"
      ]
     },
     "execution_count": 5,
     "metadata": {},
     "output_type": "execute_result"
    }
   ],
   "source": [
    "df['label'].value_counts()"
   ]
  },
  {
   "cell_type": "markdown",
   "id": "a055f682-d1ba-4cdb-a152-f27518b8adb5",
   "metadata": {},
   "source": [
    "There are 4318 negative comments and 4170 positive comments. Since the presence of both types of feedback is almost the same, we will not be performing sampling in the dataset. However, we might get more accuracy if we do perform sampling. Let's plot the sentiment numbers."
   ]
  },
  {
   "cell_type": "code",
   "execution_count": 6,
   "id": "1eeba48e-db6c-4b65-8e79-8a8dd78ce5a3",
   "metadata": {},
   "outputs": [
    {
     "data": {
      "image/png": "[encoded data removed]",
      "text/plain": [
       "<Figure size 640x480 with 1 Axes>"
      ]
     },
     "metadata": {},
     "output_type": "display_data"
    }
   ],
   "source": [
    "sns.countplot(x = 'label', data = df)\n",
    "plt.xlabel('Sentiments')\n",
    "plt.show()"
   ]
  },
  {
   "cell_type": "markdown",
   "id": "2aca86a1-bb98-4cbd-83f5-2a6c875364b2",
   "metadata": {},
   "source": [
    "### Text Processing"
   ]
  },
  {
   "cell_type": "markdown",
   "id": "f5803418-c0ae-40db-8f04-daf1a189ae52",
   "metadata": {},
   "source": [
    "Now we are moving to the fun part! Processing the text. I am going to show you the Bag Of Words method first. So what is it? <br/>\n",
    "When we are using text data, we do not have features as we would see in structured tabular data. Thus, we need some measures to get the features out of the text data with us. What if we can take each word from a sentence and get some kind of measure by which we can find out if the word exists in another sentence or not and also its importance? This is certainly possible by the process called the Bag Of Word Model. That is, each sentence in our movie review dataset is treated as a bag of words, thus each sentence is called a document. All the documents together make up a corpus. "
   ]
  },
  {
   "cell_type": "markdown",
   "id": "75646c9c-f37a-4518-a41b-75f3b0b188f6",
   "metadata": {},
   "source": [
    "If it sounds confusing to you then don't worry! This explanation will make it clearer - <br/>\n",
    "We will first create a dictionary of all the unique words used in the corpus (which means all the documents or reviews present in the dataset). We do not consider grammar like the, an, is, etc., while making the word count, since this does not hold any significant importance in understanding the text context. Then we will convert all the documents (individual reviews) into vectors which will represent the presence of words from our dictionary in the particular documents. There are three ways to identify the importance of words in the BoW model - <br/>\n",
    "<ul>\n",
    "    <li> Count Vector Model </li>\n",
    "    <li> Term Frequency Vector Model - tf</li>\n",
    "    <li> Term Frequency-Inverse Document Frequency Model - tf-idf</li>\n",
    "</ul>"
   ]
  },
  {
   "cell_type": "markdown",
   "id": "158837af-4f33-47cf-b5a1-7ab710a5352c",
   "metadata": {},
   "source": [
    "Count Vector Model will count the number of appearances of the words in a full sentence. Its better to understand visually, so suppose we have the below statements - <br/>\n",
    "review1 = 'Movie was very very good'<br/>\n",
    "review2 = 'Movie was disappointing'<br/>\n",
    "In count vector model, the reviews will show up as such - "
   ]
  },
  {
   "cell_type": "code",
   "execution_count": 100,
   "id": "089508d6-012e-4cdb-b997-cb1ac9f60d4b",
   "metadata": {},
   "outputs": [
    {
     "data": {
      "text/html": [
       "<div>\n",
       "<style scoped>\n",
       "    .dataframe tbody tr th:only-of-type {\n",
       "        vertical-align: middle;\n",
       "    }\n",
       "\n",
       "    .dataframe tbody tr th {\n",
       "        vertical-align: top;\n",
       "    }\n",
       "\n",
       "    .dataframe thead th {\n",
       "        text-align: right;\n",
       "    }\n",
       "</style>\n",
       "<table border=\"1\" class=\"dataframe\">\n",
       "  <thead>\n",
       "    <tr style=\"text-align: right;\">\n",
       "      <th></th>\n",
       "      <th>Documents</th>\n",
       "      <th>Movie</th>\n",
       "      <th>was</th>\n",
       "      <th>very</th>\n",
       "      <th>good</th>\n",
       "      <th>disappointing</th>\n",
       "    </tr>\n",
       "  </thead>\n",
       "  <tbody>\n",
       "    <tr>\n",
       "      <th>1</th>\n",
       "      <td>Movie was very very good</td>\n",
       "      <td>1</td>\n",
       "      <td>1</td>\n",
       "      <td>2</td>\n",
       "      <td>1</td>\n",
       "      <td>0</td>\n",
       "    </tr>\n",
       "    <tr>\n",
       "      <th>2</th>\n",
       "      <td>Movie was disappointing</td>\n",
       "      <td>1</td>\n",
       "      <td>1</td>\n",
       "      <td>0</td>\n",
       "      <td>0</td>\n",
       "      <td>1</td>\n",
       "    </tr>\n",
       "  </tbody>\n",
       "</table>\n",
       "</div>"
      ],
      "text/plain": [
       "                  Documents  Movie  was  very  good  disappointing\n",
       "1  Movie was very very good      1    1     2     1              0\n",
       "2   Movie was disappointing      1    1     0     0              1"
      ]
     },
     "execution_count": 100,
     "metadata": {},
     "output_type": "execute_result"
    }
   ],
   "source": [
    "d = pd.DataFrame([\n",
    "    {'Documents' : 'Movie was very very good',\n",
    "    'Movie' : 1,\n",
    "    'was':1,\n",
    "    'very':2,\n",
    "    'good':1,\n",
    "    'disappointing':0},\n",
    "    {'Documents' : 'Movie was disappointing',\n",
    "    'Movie' : 1,\n",
    "    'was':1,\n",
    "    'very':0,\n",
    "    'good':0,\n",
    "    'disappointing':1}\n",
    "], index = [1,2])\n",
    "d"
   ]
  },
  {
   "cell_type": "markdown",
   "id": "3e925193-91b6-4e81-82c1-c934c2384a60",
   "metadata": {},
   "source": [
    "Term Frequency Model - In this, the frequency of each word is calculated in each document (or sentence) with respect to the total number of word was observed in the full document. It is given by - <br/>\n",
    "TF = Number of occurences of word in ith document / Total number of words in the ith document"
   ]
  },
  {
   "cell_type": "markdown",
   "id": "7c6f0492-51b9-49b3-8794-a6fec997f119",
   "metadata": {},
   "source": [
    "Term Frequency-Inverse Document Frequency Model - TFIDF measures the importance of word in a particular sentence. The importance of a word in a sentence is directly proportional to its number of presence in the document and is inversely proportional to the frequency of the same word in full corpus. It is given by - <br/>\n",
    "TF-IDF = TF x ln (1+N/Ni), where N is the total number of documents in corpus and Ni is the document which is containing the word i."
   ]
  },
  {
   "cell_type": "markdown",
   "id": "a0924f09-fe16-42ae-a66d-a3aa93482a54",
   "metadata": {},
   "source": [
    "Okay! That's a lot of theory. Let's understand the concept via coding. We will first count the number of times each word is appearing in each document by using CountVectorizer function"
   ]
  },
  {
   "cell_type": "code",
   "execution_count": 7,
   "id": "ec80f79f-f435-4e01-98dd-1aa8b3471045",
   "metadata": {},
   "outputs": [],
   "source": [
    "from sklearn.feature_extraction.text import CountVectorizer"
   ]
  },
  {
   "cell_type": "code",
   "execution_count": 8,
   "id": "92b31d0f-206b-49a0-80fd-b084f0487a19",
   "metadata": {},
   "outputs": [
    {
     "data": {
      "text/plain": [
       "array(['00', '000', '001', ..., 'über', 'ünfaithful', 'żmijewski'],\n",
       "      dtype=object)"
      ]
     },
     "execution_count": 8,
     "metadata": {},
     "output_type": "execute_result"
    }
   ],
   "source": [
    "#initializing the CountVectorizer\n",
    "count_vector = CountVectorizer()\n",
    "\n",
    "#creating dictionary of words from the corpus\n",
    "features = count_vector.fit(df['text'])\n",
    "\n",
    "#Let's see the feature names extracted by the CountVectorizer\n",
    "feature_names = features.get_feature_names_out()\n",
    "feature_names"
   ]
  },
  {
   "cell_type": "code",
   "execution_count": 9,
   "id": "a5ca4194-15fd-4056-a82d-cc3994958aa7",
   "metadata": {},
   "outputs": [
    {
     "name": "stdout",
     "output_type": "stream",
     "text": [
      "Total Number of features extracted are -  48618\n"
     ]
    }
   ],
   "source": [
    "print('Total Number of features extracted are - ',len(feature_names))  "
   ]
  },
  {
   "cell_type": "markdown",
   "id": "0785eb27-9757-4b1a-bc62-4f11c26d4b14",
   "metadata": {},
   "source": [
    "This represents the presence of 48618 unique features in our dataset. This is because we have not cleaned the texts out of unwanted texts. We will do this eventually. Let's move on!"
   ]
  },
  {
   "cell_type": "code",
   "execution_count": 10,
   "id": "d29ce26d-13eb-4e7b-94d1-692afde9f618",
   "metadata": {},
   "outputs": [
    {
     "data": {
      "text/plain": [
       "['discirnable',\n",
       " 'slough',\n",
       " 'gonzales',\n",
       " 'hermandad',\n",
       " 'lilia',\n",
       " 'cartilage',\n",
       " 'aau',\n",
       " 'faboulous',\n",
       " 'tings',\n",
       " 'sept']"
      ]
     },
     "execution_count": 10,
     "metadata": {},
     "output_type": "execute_result"
    }
   ],
   "source": [
    "#Let's randomly pickup 10 feature names out of it\n",
    "\n",
    "random.sample(set(feature_names), 10)"
   ]
  },
  {
   "cell_type": "markdown",
   "id": "376c1ec8-68d4-4443-bbc1-dd20ab2381fa",
   "metadata": {},
   "source": [
    "As we can see these are the feature names and not the vector form of it. We have to convert the features into its vector form."
   ]
  },
  {
   "cell_type": "code",
   "execution_count": 11,
   "id": "0bc1560b-6729-4d22-86d8-639c6734ff7f",
   "metadata": {},
   "outputs": [],
   "source": [
    "feature_vector = count_vector.transform(df['text'])"
   ]
  },
  {
   "cell_type": "code",
   "execution_count": 12,
   "id": "525354fe-a3c2-41ca-a60b-b045e8b30e55",
   "metadata": {},
   "outputs": [
    {
     "data": {
      "text/plain": [
       "(8488, 48618)"
      ]
     },
     "execution_count": 12,
     "metadata": {},
     "output_type": "execute_result"
    }
   ],
   "source": [
    "feature_vector.shape"
   ]
  },
  {
   "cell_type": "markdown",
   "id": "ca326e9e-ce9d-47a2-a841-ce08acd7e4f7",
   "metadata": {},
   "source": [
    "From the shape, we can see that all the 8488 documents are represented by 48618 features (which are unique words). For the words which are present in the document, the corresponding feature will carry the number of times that word has appeared in the document. If the word is not present then the feature gets 0 value. As a result we turn up getting a lot of 0s in the vector data. In order to know the number of 0s present in the feature vector, do as below -\n"
   ]
  },
  {
   "cell_type": "code",
   "execution_count": 13,
   "id": "3395d258-2985-4019-9732-459deef8645d",
   "metadata": {},
   "outputs": [
    {
     "data": {
      "text/plain": [
       "1158500"
      ]
     },
     "execution_count": 13,
     "metadata": {},
     "output_type": "execute_result"
    }
   ],
   "source": [
    "feature_vector.getnnz()"
   ]
  },
  {
   "cell_type": "code",
   "execution_count": 14,
   "id": "97bc9c71-4691-44f6-8e8c-d0101739fb73",
   "metadata": {},
   "outputs": [
    {
     "data": {
      "text/plain": [
       "0.0028073307190965642"
      ]
     },
     "execution_count": 14,
     "metadata": {},
     "output_type": "execute_result"
    }
   ],
   "source": [
    "# To get the non-zero value density in the document\n",
    "\n",
    "feature_vector.getnnz()/(feature_vector.shape[0]*feature_vector.shape[1])"
   ]
  },
  {
   "cell_type": "markdown",
   "id": "56736284-9c19-4ccb-8748-de08d4fd080a",
   "metadata": {},
   "source": [
    "There are so less non zero values in our feature vector! Most of it are zero! You can visualize your sparse matrix as below -"
   ]
  },
  {
   "cell_type": "code",
   "execution_count": 15,
   "id": "8898cd8b-66d1-44a9-9d8e-7a3ccbb73da5",
   "metadata": {},
   "outputs": [
    {
     "data": {
      "text/plain": [
       "matrix([[0, 0, 0, ..., 0, 0, 0],\n",
       "        [0, 0, 0, ..., 0, 0, 0],\n",
       "        [0, 0, 0, ..., 0, 0, 0],\n",
       "        ...,\n",
       "        [0, 0, 0, ..., 0, 0, 0],\n",
       "        [0, 0, 0, ..., 0, 0, 0],\n",
       "        [0, 0, 0, ..., 0, 0, 0]], dtype=int64)"
      ]
     },
     "execution_count": 15,
     "metadata": {},
     "output_type": "execute_result"
    }
   ],
   "source": [
    "feature_vector.todense()"
   ]
  },
  {
   "cell_type": "markdown",
   "id": "01cc7399-284b-4abb-976c-575706f3271a",
   "metadata": {},
   "source": [
    "Clearly we need to fix our dataset before proceeding with correct classification. Let's start -"
   ]
  },
  {
   "cell_type": "markdown",
   "id": "4eba424d-4a40-4cc7-ac30-c4a72e769433",
   "metadata": {},
   "source": [
    "First, let's remove the stop words from the sentences since they do not hold any essential meaning. Stop words are words like the, an, was, is, etc. This will reduce the number of features. We will import the stopwords from nltk library -"
   ]
  },
  {
   "cell_type": "code",
   "execution_count": 15,
   "id": "86318e4d-d6e3-4488-8cd6-147a389850d7",
   "metadata": {},
   "outputs": [],
   "source": [
    "from nltk.corpus import stopwords"
   ]
  },
  {
   "cell_type": "code",
   "execution_count": 16,
   "id": "94d03511-f32c-463e-a89c-53c33df6767a",
   "metadata": {},
   "outputs": [],
   "source": [
    "#since the reviews are in english, stopwords will be in english that we need to set as below -\n",
    "\n",
    "all_stopwords = set(stopwords.words('english'))"
   ]
  },
  {
   "cell_type": "code",
   "execution_count": 17,
   "id": "7375dddc-0e4f-48dc-8a60-dde445d0912d",
   "metadata": {},
   "outputs": [
    {
     "data": {
      "text/plain": [
       "[\"doesn't\",\n",
       " \"weren't\",\n",
       " 'each',\n",
       " \"she's\",\n",
       " 'himself',\n",
       " 'did',\n",
       " 'about',\n",
       " 'through',\n",
       " 'the',\n",
       " 'should']"
      ]
     },
     "execution_count": 17,
     "metadata": {},
     "output_type": "execute_result"
    }
   ],
   "source": [
    "#this is how stop words looks like -\n",
    "\n",
    "list(all_stopwords)[:10]"
   ]
  },
  {
   "cell_type": "markdown",
   "id": "3c6ca659-812a-4938-979c-1446144bbf84",
   "metadata": {},
   "source": [
    "Now we will again start from the beginning that is we will again call the countvectorizer but this time with an additional parameter of stop_words which will stop the stopwords from appearing in the count vector -"
   ]
  },
  {
   "cell_type": "code",
   "execution_count": 18,
   "id": "1307501d-c47c-4804-a6a4-9f17a06618b8",
   "metadata": {},
   "outputs": [],
   "source": [
    "count_vector2 = CountVectorizer(stop_words=list(all_stopwords))\n",
    "feature_names2 = count_vector2.fit(df['text'])\n",
    "feature_vector2 = count_vector2.transform(df['text'])"
   ]
  },
  {
   "cell_type": "code",
   "execution_count": 19,
   "id": "b7c22f7e-d41a-495b-978f-0721217b4e2d",
   "metadata": {},
   "outputs": [
    {
     "data": {
      "text/plain": [
       "(8488, 48473)"
      ]
     },
     "execution_count": 19,
     "metadata": {},
     "output_type": "execute_result"
    }
   ],
   "source": [
    "feature_vector2.shape"
   ]
  },
  {
   "cell_type": "markdown",
   "id": "d0394ad0-8008-4bcc-8251-a37ed81d8ae6",
   "metadata": {},
   "source": [
    "Previously, the number of features were 48618 and now its 48473. The is a slight reduction. We need to reduce more. Let's see the feature names first -"
   ]
  },
  {
   "cell_type": "code",
   "execution_count": 20,
   "id": "3e640584-d31a-4059-8c52-da89757195e4",
   "metadata": {},
   "outputs": [],
   "source": [
    "feature_names = feature_names2.get_feature_names_out()\n",
    "feature_counts = np.sum(feature_vector2.toarray(), axis = 0)"
   ]
  },
  {
   "cell_type": "code",
   "execution_count": 21,
   "id": "12206c0f-dd20-4161-9a22-adb8f5009bbe",
   "metadata": {},
   "outputs": [
    {
     "data": {
      "text/html": [
       "<div>\n",
       "<style scoped>\n",
       "    .dataframe tbody tr th:only-of-type {\n",
       "        vertical-align: middle;\n",
       "    }\n",
       "\n",
       "    .dataframe tbody tr th {\n",
       "        vertical-align: top;\n",
       "    }\n",
       "\n",
       "    .dataframe thead th {\n",
       "        text-align: right;\n",
       "    }\n",
       "</style>\n",
       "<table border=\"1\" class=\"dataframe\">\n",
       "  <thead>\n",
       "    <tr style=\"text-align: right;\">\n",
       "      <th></th>\n",
       "      <th>Features</th>\n",
       "      <th>Count</th>\n",
       "    </tr>\n",
       "  </thead>\n",
       "  <tbody>\n",
       "    <tr>\n",
       "      <th>0</th>\n",
       "      <td>00</td>\n",
       "      <td>41</td>\n",
       "    </tr>\n",
       "    <tr>\n",
       "      <th>1</th>\n",
       "      <td>000</td>\n",
       "      <td>115</td>\n",
       "    </tr>\n",
       "    <tr>\n",
       "      <th>2</th>\n",
       "      <td>001</td>\n",
       "      <td>1</td>\n",
       "    </tr>\n",
       "    <tr>\n",
       "      <th>3</th>\n",
       "      <td>007</td>\n",
       "      <td>7</td>\n",
       "    </tr>\n",
       "    <tr>\n",
       "      <th>4</th>\n",
       "      <td>0080</td>\n",
       "      <td>1</td>\n",
       "    </tr>\n",
       "    <tr>\n",
       "      <th>...</th>\n",
       "      <td>...</td>\n",
       "      <td>...</td>\n",
       "    </tr>\n",
       "    <tr>\n",
       "      <th>48468</th>\n",
       "      <td>önsjön</td>\n",
       "      <td>1</td>\n",
       "    </tr>\n",
       "    <tr>\n",
       "      <th>48469</th>\n",
       "      <td>úber</td>\n",
       "      <td>1</td>\n",
       "    </tr>\n",
       "    <tr>\n",
       "      <th>48470</th>\n",
       "      <td>über</td>\n",
       "      <td>6</td>\n",
       "    </tr>\n",
       "    <tr>\n",
       "      <th>48471</th>\n",
       "      <td>ünfaithful</td>\n",
       "      <td>1</td>\n",
       "    </tr>\n",
       "    <tr>\n",
       "      <th>48472</th>\n",
       "      <td>żmijewski</td>\n",
       "      <td>1</td>\n",
       "    </tr>\n",
       "  </tbody>\n",
       "</table>\n",
       "<p>48473 rows × 2 columns</p>\n",
       "</div>"
      ],
      "text/plain": [
       "         Features  Count\n",
       "0              00     41\n",
       "1             000    115\n",
       "2             001      1\n",
       "3             007      7\n",
       "4            0080      1\n",
       "...           ...    ...\n",
       "48468      önsjön      1\n",
       "48469        úber      1\n",
       "48470        über      6\n",
       "48471  ünfaithful      1\n",
       "48472   żmijewski      1\n",
       "\n",
       "[48473 rows x 2 columns]"
      ]
     },
     "execution_count": 21,
     "metadata": {},
     "output_type": "execute_result"
    }
   ],
   "source": [
    "pd.DataFrame(dict(Features = feature_names, Count = feature_counts))"
   ]
  },
  {
   "cell_type": "markdown",
   "id": "1c88391d-bd64-4143-8416-69fff154d448",
   "metadata": {},
   "source": [
    "If we look into the features then we will observe that there are many non english words and numbers which is polluting the dataset. Let's clear them up -"
   ]
  },
  {
   "cell_type": "code",
   "execution_count": 22,
   "id": "eaadbc37-1a32-41d3-948b-03912820c88d",
   "metadata": {},
   "outputs": [],
   "source": [
    "#we will use the regex module to go through each document and look for the non english characters and will replace them with a space in our document\n",
    "for word in df.text[:][:10]:\n",
    "    review = re.sub('[^a-zA-Z]',' ',word)"
   ]
  },
  {
   "cell_type": "markdown",
   "id": "ed97e547-4a19-4927-8737-65e90b8c215c",
   "metadata": {},
   "source": [
    "Now its a good idea to turn all the words in the review sentence in lowercase and then remove the stopwords since vectorizer tends to create two vectors for say hello and HELLO due to differences in cases."
   ]
  },
  {
   "cell_type": "code",
   "execution_count": 23,
   "id": "719f657d-3c70-4cdb-9b68-6f06afbf3e55",
   "metadata": {},
   "outputs": [],
   "source": [
    "sentences = []\n",
    "for word in df.text:\n",
    "    review = re.sub('[^a-zA-Z]',' ',word)\n",
    "    review = review.lower()\n",
    "    sentences.append(review)"
   ]
  },
  {
   "cell_type": "markdown",
   "id": "3a9fcb56-17f9-4dab-bc1d-c36d43e10bae",
   "metadata": {},
   "source": [
    "sentences are now cleaned form of df['text']. Let's apply counvectorizer after removing the stop words from sentences and observe the difference in features."
   ]
  },
  {
   "cell_type": "code",
   "execution_count": 24,
   "id": "09b9cc44-eb60-4439-9a7b-0585f6e9b09a",
   "metadata": {},
   "outputs": [],
   "source": [
    "count_vector3 = CountVectorizer(stop_words=list(all_stopwords))\n",
    "feature_names3 = count_vector3.fit(sentences)\n",
    "feature_vector3 = count_vector3.transform(sentences)"
   ]
  },
  {
   "cell_type": "code",
   "execution_count": 25,
   "id": "e9d0cfb9-a6be-4024-844a-77f7c5a8a371",
   "metadata": {},
   "outputs": [
    {
     "data": {
      "text/plain": [
       "(8488, 47672)"
      ]
     },
     "execution_count": 25,
     "metadata": {},
     "output_type": "execute_result"
    }
   ],
   "source": [
    "feature_vector3.shape"
   ]
  },
  {
   "cell_type": "markdown",
   "id": "f68beab9-a904-4dcb-9e03-3e7da2f1784d",
   "metadata": {},
   "source": [
    "Features has reduced from 48473 to 47672. Not a big difference! Let's see the feature along with its count once -"
   ]
  },
  {
   "cell_type": "code",
   "execution_count": 26,
   "id": "45a73580-5678-435f-affc-291fb8259ec7",
   "metadata": {},
   "outputs": [
    {
     "data": {
      "text/html": [
       "<div>\n",
       "<style scoped>\n",
       "    .dataframe tbody tr th:only-of-type {\n",
       "        vertical-align: middle;\n",
       "    }\n",
       "\n",
       "    .dataframe tbody tr th {\n",
       "        vertical-align: top;\n",
       "    }\n",
       "\n",
       "    .dataframe thead th {\n",
       "        text-align: right;\n",
       "    }\n",
       "</style>\n",
       "<table border=\"1\" class=\"dataframe\">\n",
       "  <thead>\n",
       "    <tr style=\"text-align: right;\">\n",
       "      <th></th>\n",
       "      <th>Features</th>\n",
       "      <th>Count</th>\n",
       "    </tr>\n",
       "  </thead>\n",
       "  <tbody>\n",
       "    <tr>\n",
       "      <th>0</th>\n",
       "      <td>aa</td>\n",
       "      <td>3</td>\n",
       "    </tr>\n",
       "    <tr>\n",
       "      <th>1</th>\n",
       "      <td>aaaaah</td>\n",
       "      <td>1</td>\n",
       "    </tr>\n",
       "    <tr>\n",
       "      <th>2</th>\n",
       "      <td>aaaaargh</td>\n",
       "      <td>1</td>\n",
       "    </tr>\n",
       "    <tr>\n",
       "      <th>3</th>\n",
       "      <td>aaaaarrrrrrgggggghhhhhh</td>\n",
       "      <td>1</td>\n",
       "    </tr>\n",
       "    <tr>\n",
       "      <th>4</th>\n",
       "      <td>aaah</td>\n",
       "      <td>1</td>\n",
       "    </tr>\n",
       "    <tr>\n",
       "      <th>...</th>\n",
       "      <td>...</td>\n",
       "      <td>...</td>\n",
       "    </tr>\n",
       "    <tr>\n",
       "      <th>47667</th>\n",
       "      <td>zzzz</td>\n",
       "      <td>1</td>\n",
       "    </tr>\n",
       "    <tr>\n",
       "      <th>47668</th>\n",
       "      <td>zzzzzzzzzzzz</td>\n",
       "      <td>2</td>\n",
       "    </tr>\n",
       "    <tr>\n",
       "      <th>47669</th>\n",
       "      <td>zzzzzzzzzzzzzzzzzzzzzzzzzzzzzzz</td>\n",
       "      <td>1</td>\n",
       "    </tr>\n",
       "    <tr>\n",
       "      <th>47670</th>\n",
       "      <td>zzzzzzzzzzzzzzzzzzzzzzzzzzzzzzzzzzzzzzzzz</td>\n",
       "      <td>1</td>\n",
       "    </tr>\n",
       "    <tr>\n",
       "      <th>47671</th>\n",
       "      <td>zzzzzzzzzzzzzzzzzzzzzzzzzzzzzzzzzzzzzzzzzzzz</td>\n",
       "      <td>1</td>\n",
       "    </tr>\n",
       "  </tbody>\n",
       "</table>\n",
       "<p>47672 rows × 2 columns</p>\n",
       "</div>"
      ],
      "text/plain": [
       "                                           Features  Count\n",
       "0                                                aa      3\n",
       "1                                            aaaaah      1\n",
       "2                                          aaaaargh      1\n",
       "3                           aaaaarrrrrrgggggghhhhhh      1\n",
       "4                                              aaah      1\n",
       "...                                             ...    ...\n",
       "47667                                          zzzz      1\n",
       "47668                                  zzzzzzzzzzzz      2\n",
       "47669               zzzzzzzzzzzzzzzzzzzzzzzzzzzzzzz      1\n",
       "47670     zzzzzzzzzzzzzzzzzzzzzzzzzzzzzzzzzzzzzzzzz      1\n",
       "47671  zzzzzzzzzzzzzzzzzzzzzzzzzzzzzzzzzzzzzzzzzzzz      1\n",
       "\n",
       "[47672 rows x 2 columns]"
      ]
     },
     "execution_count": 26,
     "metadata": {},
     "output_type": "execute_result"
    }
   ],
   "source": [
    "feature_names = feature_names3.get_feature_names_out()\n",
    "feature_counts = np.sum(feature_vector3.toarray(), axis = 0)\n",
    "pd.DataFrame(dict(Features = feature_names, Count = feature_counts))"
   ]
  },
  {
   "cell_type": "markdown",
   "id": "b83632b3-42fb-4452-90d4-4f651727defc",
   "metadata": {},
   "source": [
    "As we can see that there are such reviews which do not hold any such meaning. We will get rid of those. Let's understand the meaning of stemmer and lemmatization first. <br/>\n",
    "Stemming is the process of reducing the words to its root form. Stemming chopps of the end portion of the word and brings it back to it root form since vectorizer treats similar meaning words but differenly written as two different features. For example, love, loving, and loved all are having similar meaning in different forms. Stemmer will chop off each word to its root form of lov. This will lead to the creating of a single feature instead of 3. One problem with stemming is that the words created after stemming is not a part of vocabulary and stemming also cannot convert the words considering its morphological meaning. For example both women and woman relates to the same thing but stemmer cannot understand that. However, lemmatization takes the morphological analysis of the words into consideration. It uses the dictionary to convert the words into its root word. For example, lemmatization can understand woman and women to belong from same entity and will reduce these to woman."
   ]
  },
  {
   "cell_type": "markdown",
   "id": "df9b5a59-7c0d-4239-9cb4-39782b3b5739",
   "metadata": {},
   "source": [
    "Let's work with stemmer first. There are two algorithms for it - PorterStemmer and LancasterStemmer"
   ]
  },
  {
   "cell_type": "code",
   "execution_count": 27,
   "id": "d6e75fdd-c4c5-44f2-a790-35d5f2bd843f",
   "metadata": {},
   "outputs": [],
   "source": [
    "from nltk.stem.porter import PorterStemmer"
   ]
  },
  {
   "cell_type": "code",
   "execution_count": 28,
   "id": "1b7869fa-73b2-4c0d-8a59-14b38b978940",
   "metadata": {},
   "outputs": [],
   "source": [
    "#object for porterstemmer is needed\n",
    "ps = PorterStemmer()"
   ]
  },
  {
   "cell_type": "code",
   "execution_count": 29,
   "id": "e35e8a3d-8c70-45eb-a8c3-6f6a1cd08d44",
   "metadata": {},
   "outputs": [],
   "source": [
    "# we have sentences turned into lowercase now we will stem individual words and then look into if its a stop word or not.\n",
    "# we will create a list removing all the stop words\n",
    "\n",
    "sentences_stemmed = []\n",
    "for texts in sentences:\n",
    "    reviews = [ps.stem(word) for word in texts.split() if not word in all_stopwords]\n",
    "    sentences_stemmed.append(' '.join(reviews))"
   ]
  },
  {
   "cell_type": "code",
   "execution_count": 30,
   "id": "25258138-73a0-4a4d-9b57-8d257cd49a26",
   "metadata": {},
   "outputs": [],
   "source": [
    "#Let's call the Countvectorizer process now\n",
    "\n",
    "count_vector4 = CountVectorizer()\n",
    "feature_names4 = count_vector4.fit(sentences_stemmed)\n",
    "feature_vector4 = count_vector4.transform(sentences_stemmed)"
   ]
  },
  {
   "cell_type": "code",
   "execution_count": 31,
   "id": "3ad059a2-329f-4f7f-a814-350afb800a46",
   "metadata": {},
   "outputs": [
    {
     "data": {
      "text/plain": [
       "(8488, 32342)"
      ]
     },
     "execution_count": 31,
     "metadata": {},
     "output_type": "execute_result"
    }
   ],
   "source": [
    "feature_vector4.shape"
   ]
  },
  {
   "cell_type": "markdown",
   "id": "acfdb147-8e4d-4e79-85e6-e6c6640a2e10",
   "metadata": {},
   "source": [
    "Here we can see that Features has reduced from 47672 to 32342. Let's now use Lemmatization. We will use WordNetLemmatizer algorithm -"
   ]
  },
  {
   "cell_type": "code",
   "execution_count": 32,
   "id": "4e944836-d716-4949-bbd2-20045589617c",
   "metadata": {},
   "outputs": [],
   "source": [
    "from nltk.stem import WordNetLemmatizer"
   ]
  },
  {
   "cell_type": "code",
   "execution_count": 33,
   "id": "5d37e52f-9207-4307-9ff1-bf1b8a34196e",
   "metadata": {},
   "outputs": [],
   "source": [
    "lemma = WordNetLemmatizer()"
   ]
  },
  {
   "cell_type": "code",
   "execution_count": 34,
   "id": "a93a3496-c2b5-4190-a1fa-a64d03030fb0",
   "metadata": {},
   "outputs": [],
   "source": [
    "sentences_lemma = []\n",
    "for texts in sentences:\n",
    "    reviews = [lemma.lemmatize(word) for word in texts.split() if not word in all_stopwords]\n",
    "    sentences_lemma.append(' '.join(reviews))"
   ]
  },
  {
   "cell_type": "code",
   "execution_count": 35,
   "id": "04f692d1-5bd7-42fe-95ec-bb5266cf77fc",
   "metadata": {},
   "outputs": [],
   "source": [
    "#Let's call the Countvectorizer process now\n",
    "\n",
    "count_vector5 = CountVectorizer()\n",
    "feature_names5 = count_vector5.fit(sentences_lemma)\n",
    "feature_vector5 = count_vector5.transform(sentences_lemma)"
   ]
  },
  {
   "cell_type": "code",
   "execution_count": 36,
   "id": "ab38801c-b948-4ee2-ba23-8a3bbaedb155",
   "metadata": {},
   "outputs": [
    {
     "data": {
      "text/plain": [
       "(8488, 42521)"
      ]
     },
     "execution_count": 36,
     "metadata": {},
     "output_type": "execute_result"
    }
   ],
   "source": [
    "feature_vector5.shape"
   ]
  },
  {
   "cell_type": "markdown",
   "id": "16f958bc-7640-4662-8e2c-c42113c2169e",
   "metadata": {},
   "source": [
    "Here, we will be using PorterStemmer for stemming. Maybe you can use Lemmatization instead of PorterStemmer to find out what difference in the result you get! Okay now let's create a function that will do all these tasks we have seen so far and will give the final result of sentences - "
   ]
  },
  {
   "cell_type": "code",
   "execution_count": 37,
   "id": "3c11c99b-5fe2-4a61-a73f-39f212d21321",
   "metadata": {},
   "outputs": [],
   "source": [
    "def get_clean_text(df, col):\n",
    "    sentence = []\n",
    "\n",
    "    for word in df[col][:]:\n",
    "        review = re.sub('[^a-zA-Z]',' ',word)\n",
    "        review = review.lower()\n",
    "        review = review.split()\n",
    "        review = [ps.stem(word) for word in review if not word in all_stopwords]\n",
    "        review = ' '.join(review)\n",
    "        sentence.append(review)\n",
    "\n",
    "    return sentence"
   ]
  },
  {
   "cell_type": "code",
   "execution_count": 38,
   "id": "091d21ce-0f63-4e37-b72e-789cc8c62ebf",
   "metadata": {},
   "outputs": [],
   "source": [
    "df['clean_text'] = get_clean_text(df, 'text')"
   ]
  },
  {
   "cell_type": "code",
   "execution_count": 39,
   "id": "ceccc770",
   "metadata": {},
   "outputs": [
    {
     "data": {
      "text/html": [
       "<div>\n",
       "<style scoped>\n",
       "    .dataframe tbody tr th:only-of-type {\n",
       "        vertical-align: middle;\n",
       "    }\n",
       "\n",
       "    .dataframe tbody tr th {\n",
       "        vertical-align: top;\n",
       "    }\n",
       "\n",
       "    .dataframe thead th {\n",
       "        text-align: right;\n",
       "    }\n",
       "</style>\n",
       "<table border=\"1\" class=\"dataframe\">\n",
       "  <thead>\n",
       "    <tr style=\"text-align: right;\">\n",
       "      <th></th>\n",
       "      <th>text</th>\n",
       "      <th>label</th>\n",
       "      <th>clean_text</th>\n",
       "    </tr>\n",
       "  </thead>\n",
       "  <tbody>\n",
       "    <tr>\n",
       "      <th>0</th>\n",
       "      <td>I grew up (b. 1965) watching and loving the Th...</td>\n",
       "      <td>0</td>\n",
       "      <td>grew b watch love thunderbird mate school watc...</td>\n",
       "    </tr>\n",
       "    <tr>\n",
       "      <th>1</th>\n",
       "      <td>When I put this movie in my DVD player, and sa...</td>\n",
       "      <td>0</td>\n",
       "      <td>put movi dvd player sat coke chip expect hope ...</td>\n",
       "    </tr>\n",
       "    <tr>\n",
       "      <th>2</th>\n",
       "      <td>Why do people who do not know what a particula...</td>\n",
       "      <td>0</td>\n",
       "      <td>peopl know particular time past like feel need...</td>\n",
       "    </tr>\n",
       "    <tr>\n",
       "      <th>3</th>\n",
       "      <td>Even though I have great interest in Biblical ...</td>\n",
       "      <td>0</td>\n",
       "      <td>even though great interest biblic movi bore de...</td>\n",
       "    </tr>\n",
       "    <tr>\n",
       "      <th>4</th>\n",
       "      <td>Im a die hard Dads Army fan and nothing will e...</td>\n",
       "      <td>1</td>\n",
       "      <td>im die hard dad armi fan noth ever chang got t...</td>\n",
       "    </tr>\n",
       "    <tr>\n",
       "      <th>5</th>\n",
       "      <td>A terrible movie as everyone has said. What ma...</td>\n",
       "      <td>0</td>\n",
       "      <td>terribl movi everyon said made laugh cameo app...</td>\n",
       "    </tr>\n",
       "    <tr>\n",
       "      <th>6</th>\n",
       "      <td>Finally watched this shocking movie last night...</td>\n",
       "      <td>1</td>\n",
       "      <td>final watch shock movi last night disturb mind...</td>\n",
       "    </tr>\n",
       "    <tr>\n",
       "      <th>7</th>\n",
       "      <td>I caught this film on AZN on cable. It sounded...</td>\n",
       "      <td>0</td>\n",
       "      <td>caught film azn cabl sound like would good fil...</td>\n",
       "    </tr>\n",
       "    <tr>\n",
       "      <th>8</th>\n",
       "      <td>It may be the remake of 1987 Autumn's Tale aft...</td>\n",
       "      <td>1</td>\n",
       "      <td>may remak autumn tale eleven year director mab...</td>\n",
       "    </tr>\n",
       "    <tr>\n",
       "      <th>9</th>\n",
       "      <td>My Super Ex Girlfriend turned out to be a plea...</td>\n",
       "      <td>1</td>\n",
       "      <td>super ex girlfriend turn pleasant surpris real...</td>\n",
       "    </tr>\n",
       "  </tbody>\n",
       "</table>\n",
       "</div>"
      ],
      "text/plain": [
       "                                                text  label  \\\n",
       "0  I grew up (b. 1965) watching and loving the Th...      0   \n",
       "1  When I put this movie in my DVD player, and sa...      0   \n",
       "2  Why do people who do not know what a particula...      0   \n",
       "3  Even though I have great interest in Biblical ...      0   \n",
       "4  Im a die hard Dads Army fan and nothing will e...      1   \n",
       "5  A terrible movie as everyone has said. What ma...      0   \n",
       "6  Finally watched this shocking movie last night...      1   \n",
       "7  I caught this film on AZN on cable. It sounded...      0   \n",
       "8  It may be the remake of 1987 Autumn's Tale aft...      1   \n",
       "9  My Super Ex Girlfriend turned out to be a plea...      1   \n",
       "\n",
       "                                          clean_text  \n",
       "0  grew b watch love thunderbird mate school watc...  \n",
       "1  put movi dvd player sat coke chip expect hope ...  \n",
       "2  peopl know particular time past like feel need...  \n",
       "3  even though great interest biblic movi bore de...  \n",
       "4  im die hard dad armi fan noth ever chang got t...  \n",
       "5  terribl movi everyon said made laugh cameo app...  \n",
       "6  final watch shock movi last night disturb mind...  \n",
       "7  caught film azn cabl sound like would good fil...  \n",
       "8  may remak autumn tale eleven year director mab...  \n",
       "9  super ex girlfriend turn pleasant surpris real...  "
      ]
     },
     "execution_count": 39,
     "metadata": {},
     "output_type": "execute_result"
    }
   ],
   "source": [
    "df.head(10)"
   ]
  },
  {
   "cell_type": "code",
   "execution_count": 40,
   "id": "a3139e4a-b2f6-41a2-8670-e52fc2d637ff",
   "metadata": {},
   "outputs": [],
   "source": [
    "#Now we need to vectorize it. We will do it in the same way, that is using countvectorizer -\n",
    "\n",
    "cv = CountVectorizer()\n",
    "features = cv.fit_transform(df['clean_text'])"
   ]
  },
  {
   "cell_type": "markdown",
   "id": "2abef5e4-95bf-4463-994a-803c0bea8008",
   "metadata": {},
   "source": [
    "### Classification"
   ]
  },
  {
   "cell_type": "markdown",
   "id": "b1b1602d-ff47-4c5a-9665-babec2f4e883",
   "metadata": {},
   "source": [
    "Let's split the dataset and now we will use classification to do the sentiment analysis. We are using Naive Bayes Classification here -"
   ]
  },
  {
   "cell_type": "code",
   "execution_count": 41,
   "id": "a66a92dd",
   "metadata": {},
   "outputs": [],
   "source": [
    "#splitting the dataset into train and test\n",
    "\n",
    "x = features.toarray()\n",
    "y = df['label']\n",
    "from sklearn.model_selection import train_test_split\n",
    "x_train, x_test, y_train, y_test = train_test_split(x, y, test_size = 0.10, random_state = 42)"
   ]
  },
  {
   "cell_type": "markdown",
   "id": "de5c2e03",
   "metadata": {},
   "source": [
    "##### Model training"
   ]
  },
  {
   "cell_type": "markdown",
   "id": "081cb95d-12bf-482c-9c99-5238062f0789",
   "metadata": {},
   "source": [
    "We will build two types of Naive Bayes classifier and compare the accuracy. First is the GaussianNB -"
   ]
  },
  {
   "cell_type": "code",
   "execution_count": 42,
   "id": "9d1f6ab1",
   "metadata": {},
   "outputs": [
    {
     "data": {
      "text/html": [
       "<style>#sk-container-id-1 {color: black;}#sk-container-id-1 pre{padding: 0;}#sk-container-id-1 div.sk-toggleable {background-color: white;}#sk-container-id-1 label.sk-toggleable__label {cursor: pointer;display: block;width: 100%;margin-bottom: 0;padding: 0.3em;box-sizing: border-box;text-align: center;}#sk-container-id-1 label.sk-toggleable__label-arrow:before {content: \"▸\";float: left;margin-right: 0.25em;color: #696969;}#sk-container-id-1 label.sk-toggleable__label-arrow:hover:before {color: black;}#sk-container-id-1 div.sk-estimator:hover label.sk-toggleable__label-arrow:before {color: black;}#sk-container-id-1 div.sk-toggleable__content {max-height: 0;max-width: 0;overflow: hidden;text-align: left;background-color: #f0f8ff;}#sk-container-id-1 div.sk-toggleable__content pre {margin: 0.2em;color: black;border-radius: 0.25em;background-color: #f0f8ff;}#sk-container-id-1 input.sk-toggleable__control:checked~div.sk-toggleable__content {max-height: 200px;max-width: 100%;overflow: auto;}#sk-container-id-1 input.sk-toggleable__control:checked~label.sk-toggleable__label-arrow:before {content: \"▾\";}#sk-container-id-1 div.sk-estimator input.sk-toggleable__control:checked~label.sk-toggleable__label {background-color: #d4ebff;}#sk-container-id-1 div.sk-label input.sk-toggleable__control:checked~label.sk-toggleable__label {background-color: #d4ebff;}#sk-container-id-1 input.sk-hidden--visually {border: 0;clip: rect(1px 1px 1px 1px);clip: rect(1px, 1px, 1px, 1px);height: 1px;margin: -1px;overflow: hidden;padding: 0;position: absolute;width: 1px;}#sk-container-id-1 div.sk-estimator {font-family: monospace;background-color: #f0f8ff;border: 1px dotted black;border-radius: 0.25em;box-sizing: border-box;margin-bottom: 0.5em;}#sk-container-id-1 div.sk-estimator:hover {background-color: #d4ebff;}#sk-container-id-1 div.sk-parallel-item::after {content: \"\";width: 100%;border-bottom: 1px solid gray;flex-grow: 1;}#sk-container-id-1 div.sk-label:hover label.sk-toggleable__label {background-color: #d4ebff;}#sk-container-id-1 div.sk-serial::before {content: \"\";position: absolute;border-left: 1px solid gray;box-sizing: border-box;top: 0;bottom: 0;left: 50%;z-index: 0;}#sk-container-id-1 div.sk-serial {display: flex;flex-direction: column;align-items: center;background-color: white;padding-right: 0.2em;padding-left: 0.2em;position: relative;}#sk-container-id-1 div.sk-item {position: relative;z-index: 1;}#sk-container-id-1 div.sk-parallel {display: flex;align-items: stretch;justify-content: center;background-color: white;position: relative;}#sk-container-id-1 div.sk-item::before, #sk-container-id-1 div.sk-parallel-item::before {content: \"\";position: absolute;border-left: 1px solid gray;box-sizing: border-box;top: 0;bottom: 0;left: 50%;z-index: -1;}#sk-container-id-1 div.sk-parallel-item {display: flex;flex-direction: column;z-index: 1;position: relative;background-color: white;}#sk-container-id-1 div.sk-parallel-item:first-child::after {align-self: flex-end;width: 50%;}#sk-container-id-1 div.sk-parallel-item:last-child::after {align-self: flex-start;width: 50%;}#sk-container-id-1 div.sk-parallel-item:only-child::after {width: 0;}#sk-container-id-1 div.sk-dashed-wrapped {border: 1px dashed gray;margin: 0 0.4em 0.5em 0.4em;box-sizing: border-box;padding-bottom: 0.4em;background-color: white;}#sk-container-id-1 div.sk-label label {font-family: monospace;font-weight: bold;display: inline-block;line-height: 1.2em;}#sk-container-id-1 div.sk-label-container {text-align: center;}#sk-container-id-1 div.sk-container {/* jupyter's `normalize.less` sets `[hidden] { display: none; }` but bootstrap.min.css set `[hidden] { display: none !important; }` so we also need the `!important` here to be able to override the default hidden behavior on the sphinx rendered scikit-learn.org. See: https://github.com/scikit-learn/scikit-learn/issues/21755 */display: inline-block !important;position: relative;}#sk-container-id-1 div.sk-text-repr-fallback {display: none;}</style><div id=\"sk-container-id-1\" class=\"sk-top-container\"><div class=\"sk-text-repr-fallback\"><pre>GaussianNB()</pre><b>In a Jupyter environment, please rerun this cell to show the HTML representation or trust the notebook. <br />On GitHub, the HTML representation is unable to render, please try loading this page with nbviewer.org.</b></div><div class=\"sk-container\" hidden><div class=\"sk-item\"><div class=\"sk-estimator sk-toggleable\"><input class=\"sk-toggleable__control sk-hidden--visually\" id=\"sk-estimator-id-1\" type=\"checkbox\" checked><label for=\"sk-estimator-id-1\" class=\"sk-toggleable__label sk-toggleable__label-arrow\">GaussianNB</label><div class=\"sk-toggleable__content\"><pre>GaussianNB()</pre></div></div></div></div></div>"
      ],
      "text/plain": [
       "GaussianNB()"
      ]
     },
     "execution_count": 42,
     "metadata": {},
     "output_type": "execute_result"
    }
   ],
   "source": [
    "from sklearn.naive_bayes import GaussianNB\n",
    "classifier = GaussianNB()\n",
    "classifier.fit(x_train, y_train)"
   ]
  },
  {
   "cell_type": "markdown",
   "id": "e5deabe7-3c60-4c35-91aa-6d0ae6bc68f6",
   "metadata": {},
   "source": [
    "Our model is trained. Now lets do the prediction -"
   ]
  },
  {
   "cell_type": "markdown",
   "id": "424d8fc1",
   "metadata": {},
   "source": [
    "##### Testing model performance"
   ]
  },
  {
   "cell_type": "code",
   "execution_count": 43,
   "id": "74d92aa2",
   "metadata": {},
   "outputs": [],
   "source": [
    "y_pred = classifier.predict(x_test)"
   ]
  },
  {
   "cell_type": "code",
   "execution_count": 44,
   "id": "85a4cac5",
   "metadata": {},
   "outputs": [
    {
     "data": {
      "text/plain": [
       "array([0, 1, 0, 0, 0, 0, 0, 0, 1, 1, 1, 1, 1, 1, 0, 1, 1, 1, 0, 0, 0, 0,\n",
       "       1, 0, 0, 0, 0, 0, 0, 0, 0, 0, 0, 1, 1, 0, 1, 1, 1, 1, 0, 0, 1, 1,\n",
       "       0, 0, 1, 0, 1, 0, 0, 0, 1, 1, 0, 1, 1, 0, 0, 1, 1, 1, 1, 0, 1, 0,\n",
       "       0, 0, 1, 1, 1, 1, 1, 0, 0, 0, 1, 0, 1, 0, 0, 1, 0, 0, 0, 0, 1, 0,\n",
       "       1, 0, 0, 0, 1, 0, 1, 1, 0, 1, 1, 1, 0, 1, 0, 1, 0, 0, 1, 0, 0, 1,\n",
       "       0, 0, 0, 1, 1, 0, 0, 0, 1, 0, 1, 1, 0, 0, 1, 0, 1, 1, 1, 1, 0, 0,\n",
       "       0, 0, 0, 0, 1, 1, 1, 0, 0, 1, 0, 1, 0, 1, 1, 1, 0, 1, 0, 0, 0, 1,\n",
       "       1, 1, 1, 0, 0, 1, 1, 0, 1, 0, 0, 0, 1, 0, 1, 0, 0, 0, 0, 1, 0, 1,\n",
       "       1, 1, 1, 0, 1, 1, 1, 0, 1, 0, 0, 1, 0, 1, 0, 0, 0, 1, 1, 1, 0, 0,\n",
       "       0, 0, 1, 0, 0, 0, 0, 0, 0, 0, 1, 1, 1, 0, 0, 0, 0, 0, 1, 1, 1, 1,\n",
       "       0, 1, 1, 0, 1, 1, 0, 1, 1, 0, 0, 0, 0, 0, 0, 0, 1, 0, 0, 1, 0, 1,\n",
       "       0, 1, 1, 1, 1, 1, 1, 0, 1, 0, 0, 0, 1, 0, 0, 1, 1, 0, 0, 0, 0, 1,\n",
       "       0, 0, 0, 0, 1, 0, 1, 0, 0, 0, 1, 0, 0, 1, 0, 0, 0, 0, 1, 1, 1, 1,\n",
       "       1, 0, 0, 1, 1, 0, 1, 1, 0, 0, 1, 0, 1, 1, 1, 0, 1, 1, 1, 1, 1, 0,\n",
       "       1, 1, 1, 0, 0, 0, 0, 1, 1, 0, 1, 0, 0, 0, 0, 1, 0, 1, 1, 0, 1, 0,\n",
       "       0, 0, 0, 0, 0, 0, 0, 1, 1, 0, 0, 1, 1, 0, 0, 0, 0, 0, 0, 0, 1, 0,\n",
       "       0, 0, 0, 0, 1, 0, 1, 0, 0, 1, 0, 0, 0, 0, 0, 1, 0, 1, 0, 0, 0, 0,\n",
       "       1, 1, 0, 0, 0, 0, 0, 0, 1, 0, 1, 1, 0, 1, 0, 0, 0, 1, 0, 0, 0, 1,\n",
       "       0, 1, 1, 1, 0, 0, 1, 0, 0, 0, 0, 1, 0, 0, 1, 1, 0, 0, 0, 0, 0, 0,\n",
       "       0, 0, 0, 0, 1, 1, 0, 0, 0, 0, 0, 1, 1, 1, 0, 1, 0, 0, 1, 0, 0, 0,\n",
       "       0, 0, 1, 0, 0, 1, 0, 1, 0, 0, 1, 0, 0, 0, 1, 1, 1, 0, 0, 0, 1, 1,\n",
       "       0, 0, 1, 1, 1, 1, 0, 1, 1, 1, 1, 1, 0, 0, 0, 1, 1, 0, 0, 0, 1, 1,\n",
       "       0, 0, 1, 0, 0, 1, 0, 0, 1, 1, 0, 0, 0, 0, 0, 1, 0, 1, 0, 0, 0, 0,\n",
       "       1, 0, 0, 1, 1, 1, 0, 0, 1, 0, 0, 0, 0, 1, 1, 0, 0, 0, 0, 0, 1, 0,\n",
       "       1, 1, 0, 1, 0, 0, 1, 0, 0, 1, 1, 1, 0, 1, 0, 0, 0, 0, 0, 0, 1, 1,\n",
       "       0, 1, 1, 0, 0, 1, 1, 0, 0, 1, 1, 0, 1, 1, 1, 1, 1, 0, 0, 1, 1, 1,\n",
       "       0, 1, 1, 0, 0, 0, 0, 1, 0, 1, 0, 1, 1, 1, 1, 1, 0, 1, 0, 0, 0, 0,\n",
       "       0, 0, 0, 0, 0, 1, 0, 0, 0, 1, 0, 0, 0, 1, 0, 1, 1, 0, 0, 1, 0, 1,\n",
       "       1, 1, 0, 1, 1, 0, 0, 0, 1, 0, 0, 1, 0, 1, 1, 1, 0, 0, 1, 0, 0, 0,\n",
       "       0, 1, 1, 0, 1, 1, 1, 0, 1, 1, 0, 1, 1, 0, 0, 0, 1, 0, 0, 1, 0, 1,\n",
       "       0, 0, 0, 0, 1, 1, 1, 1, 1, 0, 0, 0, 0, 0, 0, 0, 0, 0, 0, 0, 0, 1,\n",
       "       1, 0, 0, 1, 1, 0, 0, 0, 0, 0, 0, 0, 0, 0, 0, 1, 1, 0, 1, 0, 0, 0,\n",
       "       1, 0, 1, 1, 0, 1, 1, 0, 0, 1, 1, 1, 1, 0, 1, 0, 0, 0, 0, 0, 0, 1,\n",
       "       0, 0, 1, 0, 0, 0, 0, 1, 0, 0, 1, 0, 0, 0, 0, 0, 1, 1, 1, 0, 1, 1,\n",
       "       0, 0, 1, 0, 0, 0, 0, 0, 0, 1, 0, 1, 1, 0, 0, 0, 0, 1, 1, 1, 1, 0,\n",
       "       1, 0, 1, 0, 0, 0, 0, 0, 1, 0, 0, 0, 1, 0, 0, 0, 1, 0, 1, 1, 1, 1,\n",
       "       1, 1, 0, 0, 0, 0, 0, 0, 1, 1, 1, 1, 0, 0, 0, 1, 0, 1, 0, 0, 1, 0,\n",
       "       0, 0, 1, 0, 0, 0, 0, 1, 0, 0, 0, 1, 0, 0, 0, 0, 0, 1, 1, 0, 1, 1,\n",
       "       0, 0, 0, 0, 0, 0, 1, 0, 0, 1, 0, 1, 0], dtype=int64)"
      ]
     },
     "execution_count": 44,
     "metadata": {},
     "output_type": "execute_result"
    }
   ],
   "source": [
    "y_pred"
   ]
  },
  {
   "cell_type": "markdown",
   "id": "e3c523b4-a113-49dd-b0a6-721224090bf8",
   "metadata": {},
   "source": [
    "Okay! Let's check for accuracy now -"
   ]
  },
  {
   "cell_type": "code",
   "execution_count": 45,
   "id": "9f3e579b",
   "metadata": {},
   "outputs": [
    {
     "name": "stdout",
     "output_type": "stream",
     "text": [
      "[[305 124]\n",
      " [194 226]]\n"
     ]
    }
   ],
   "source": [
    "from sklearn.metrics import confusion_matrix, accuracy_score\n",
    "cm = confusion_matrix(y_test, y_pred)\n",
    "print(cm)"
   ]
  },
  {
   "cell_type": "markdown",
   "id": "12314e2d-09c9-497d-81c4-4f10f16be1f4",
   "metadata": {},
   "source": [
    "There are 194 False Negatives, which is not that good as a result!"
   ]
  },
  {
   "cell_type": "code",
   "execution_count": 46,
   "id": "53c84d86",
   "metadata": {},
   "outputs": [
    {
     "data": {
      "text/plain": [
       "0.625"
      ]
     },
     "execution_count": 46,
     "metadata": {},
     "output_type": "execute_result"
    }
   ],
   "source": [
    "round(accuracy_score(y_test, y_pred), 3)"
   ]
  },
  {
   "cell_type": "markdown",
   "id": "5fba9cb5-1f4c-4945-adc0-69da2b46e088",
   "metadata": {},
   "source": [
    "Accuracy of our model is quiet low. This maybe the result of some bizzare comments presence. Let's check the training set accuracy to check for overfitting -"
   ]
  },
  {
   "cell_type": "code",
   "execution_count": 47,
   "id": "a5a3a852-f322-43b5-afa6-2f81af6eb416",
   "metadata": {},
   "outputs": [
    {
     "data": {
      "text/plain": [
       "0.902"
      ]
     },
     "execution_count": 47,
     "metadata": {},
     "output_type": "execute_result"
    }
   ],
   "source": [
    "y_pred_train = classifier.predict(x_train)\n",
    "round(accuracy_score(y_train, y_pred_train), 3)"
   ]
  },
  {
   "cell_type": "markdown",
   "id": "1df44391-0ded-4853-8cae-5aaaf5d9019b",
   "metadata": {},
   "source": [
    "Clearly, the model is way too overfitted. Now let's apply another NB classification model before working around data -"
   ]
  },
  {
   "cell_type": "code",
   "execution_count": 48,
   "id": "e57275ca-a9c1-4c7d-bde1-bb6fc5b205a3",
   "metadata": {},
   "outputs": [
    {
     "data": {
      "text/plain": [
       "<Axes: >"
      ]
     },
     "execution_count": 48,
     "metadata": {},
     "output_type": "execute_result"
    },
    {
     "data": {
      "image/png": "[encoded data removed]",
      "text/plain": [
       "<Figure size 640x480 with 2 Axes>"
      ]
     },
     "metadata": {},
     "output_type": "display_data"
    }
   ],
   "source": [
    "from sklearn.naive_bayes import BernoulliNB\n",
    "\n",
    "classifier2 = BernoulliNB()\n",
    "classifier2.fit(x_train, y_train)\n",
    "\n",
    "y_pred2 = classifier2.predict(x_test)\n",
    "cm = confusion_matrix(y_test, y_pred2)\n",
    "sns.heatmap(cm, annot = True, fmt='.2f')"
   ]
  },
  {
   "cell_type": "markdown",
   "id": "e6a511e0-42a1-4ad2-8cc1-f6d33c5c8bb4",
   "metadata": {},
   "source": [
    "From this, we can see that there are 111 positive statements that are wrongly classified as negative which is False Negative. There are 50 negative statements that are classified as positives indicating false positives. This shows that BernaulliNB might be a better model for this dataset."
   ]
  },
  {
   "cell_type": "code",
   "execution_count": 49,
   "id": "6fda0ff3-c3ac-455d-8553-77c13fa337f9",
   "metadata": {},
   "outputs": [
    {
     "data": {
      "text/plain": [
       "0.81"
      ]
     },
     "execution_count": 49,
     "metadata": {},
     "output_type": "execute_result"
    }
   ],
   "source": [
    "round(accuracy_score(y_test, y_pred2), 3)"
   ]
  },
  {
   "cell_type": "markdown",
   "id": "79cb72d6-5a4f-4452-aa62-8f6ad3626118",
   "metadata": {},
   "source": [
    "Test Accuracy has also increased considerablyusing the model! Let's check for overfitting -"
   ]
  },
  {
   "cell_type": "code",
   "execution_count": 50,
   "id": "51e437d0-e434-40d7-af09-aa88c9d54fc6",
   "metadata": {},
   "outputs": [
    {
     "data": {
      "text/plain": [
       "0.916"
      ]
     },
     "execution_count": 50,
     "metadata": {},
     "output_type": "execute_result"
    }
   ],
   "source": [
    "y_pred_train2 = classifier2.predict(x_train)\n",
    "round(accuracy_score(y_train, y_pred_train2), 3)"
   ]
  },
  {
   "cell_type": "markdown",
   "id": "f34aa6a6-0c77-416f-8306-e5939a27c2d2",
   "metadata": {},
   "source": [
    "Still overfitting is there, though much reduced than before. Let's look into the complete classification report -"
   ]
  },
  {
   "cell_type": "code",
   "execution_count": 51,
   "id": "0984c054-608f-4e2e-b406-d9ab059a1b35",
   "metadata": {},
   "outputs": [
    {
     "name": "stdout",
     "output_type": "stream",
     "text": [
      "              precision    recall  f1-score   support\n",
      "\n",
      "           0       0.77      0.88      0.82       429\n",
      "           1       0.86      0.74      0.79       420\n",
      "\n",
      "    accuracy                           0.81       849\n",
      "   macro avg       0.82      0.81      0.81       849\n",
      "weighted avg       0.82      0.81      0.81       849\n",
      "\n"
     ]
    }
   ],
   "source": [
    "from sklearn.metrics import classification_report\n",
    "\n",
    "print(classification_report(y_test, y_pred2))"
   ]
  },
  {
   "cell_type": "markdown",
   "id": "c4463015-aaec-40d4-9cf2-2f83046c0c1b",
   "metadata": {},
   "source": [
    "Now we can think of some way to increase the accuracy more. What can we do? Let's try changing the BagOfWord model. We were using CountVectorizer till now, let's use tf idf vectorizer and see the difference -"
   ]
  },
  {
   "cell_type": "code",
   "execution_count": 52,
   "id": "4ce76ac1-7121-43b8-a0c0-7d1c4f9b61d3",
   "metadata": {},
   "outputs": [],
   "source": [
    "from sklearn.feature_extraction.text import TfidfVectorizer"
   ]
  },
  {
   "cell_type": "code",
   "execution_count": 53,
   "id": "bd76fc00-6a21-460a-b842-a37462823c09",
   "metadata": {},
   "outputs": [],
   "source": [
    "tfidf = TfidfVectorizer()\n",
    "features = tfidf.fit_transform(df['clean_text'])"
   ]
  },
  {
   "cell_type": "code",
   "execution_count": 54,
   "id": "304223c1-3f2b-44c2-ace9-a754a42b4223",
   "metadata": {},
   "outputs": [],
   "source": [
    "x1 = features.toarray()"
   ]
  },
  {
   "cell_type": "code",
   "execution_count": 55,
   "id": "3b8883d5-146d-4807-a7a3-222da1819e43",
   "metadata": {},
   "outputs": [],
   "source": [
    "x_train, x_test, y_train, y_test = train_test_split(x1, y, test_size = 0.10, random_state = 42)"
   ]
  },
  {
   "cell_type": "code",
   "execution_count": 56,
   "id": "371b35b1-9533-42de-926c-76da02adfcac",
   "metadata": {},
   "outputs": [
    {
     "data": {
      "text/html": [
       "<style>#sk-container-id-2 {color: black;}#sk-container-id-2 pre{padding: 0;}#sk-container-id-2 div.sk-toggleable {background-color: white;}#sk-container-id-2 label.sk-toggleable__label {cursor: pointer;display: block;width: 100%;margin-bottom: 0;padding: 0.3em;box-sizing: border-box;text-align: center;}#sk-container-id-2 label.sk-toggleable__label-arrow:before {content: \"▸\";float: left;margin-right: 0.25em;color: #696969;}#sk-container-id-2 label.sk-toggleable__label-arrow:hover:before {color: black;}#sk-container-id-2 div.sk-estimator:hover label.sk-toggleable__label-arrow:before {color: black;}#sk-container-id-2 div.sk-toggleable__content {max-height: 0;max-width: 0;overflow: hidden;text-align: left;background-color: #f0f8ff;}#sk-container-id-2 div.sk-toggleable__content pre {margin: 0.2em;color: black;border-radius: 0.25em;background-color: #f0f8ff;}#sk-container-id-2 input.sk-toggleable__control:checked~div.sk-toggleable__content {max-height: 200px;max-width: 100%;overflow: auto;}#sk-container-id-2 input.sk-toggleable__control:checked~label.sk-toggleable__label-arrow:before {content: \"▾\";}#sk-container-id-2 div.sk-estimator input.sk-toggleable__control:checked~label.sk-toggleable__label {background-color: #d4ebff;}#sk-container-id-2 div.sk-label input.sk-toggleable__control:checked~label.sk-toggleable__label {background-color: #d4ebff;}#sk-container-id-2 input.sk-hidden--visually {border: 0;clip: rect(1px 1px 1px 1px);clip: rect(1px, 1px, 1px, 1px);height: 1px;margin: -1px;overflow: hidden;padding: 0;position: absolute;width: 1px;}#sk-container-id-2 div.sk-estimator {font-family: monospace;background-color: #f0f8ff;border: 1px dotted black;border-radius: 0.25em;box-sizing: border-box;margin-bottom: 0.5em;}#sk-container-id-2 div.sk-estimator:hover {background-color: #d4ebff;}#sk-container-id-2 div.sk-parallel-item::after {content: \"\";width: 100%;border-bottom: 1px solid gray;flex-grow: 1;}#sk-container-id-2 div.sk-label:hover label.sk-toggleable__label {background-color: #d4ebff;}#sk-container-id-2 div.sk-serial::before {content: \"\";position: absolute;border-left: 1px solid gray;box-sizing: border-box;top: 0;bottom: 0;left: 50%;z-index: 0;}#sk-container-id-2 div.sk-serial {display: flex;flex-direction: column;align-items: center;background-color: white;padding-right: 0.2em;padding-left: 0.2em;position: relative;}#sk-container-id-2 div.sk-item {position: relative;z-index: 1;}#sk-container-id-2 div.sk-parallel {display: flex;align-items: stretch;justify-content: center;background-color: white;position: relative;}#sk-container-id-2 div.sk-item::before, #sk-container-id-2 div.sk-parallel-item::before {content: \"\";position: absolute;border-left: 1px solid gray;box-sizing: border-box;top: 0;bottom: 0;left: 50%;z-index: -1;}#sk-container-id-2 div.sk-parallel-item {display: flex;flex-direction: column;z-index: 1;position: relative;background-color: white;}#sk-container-id-2 div.sk-parallel-item:first-child::after {align-self: flex-end;width: 50%;}#sk-container-id-2 div.sk-parallel-item:last-child::after {align-self: flex-start;width: 50%;}#sk-container-id-2 div.sk-parallel-item:only-child::after {width: 0;}#sk-container-id-2 div.sk-dashed-wrapped {border: 1px dashed gray;margin: 0 0.4em 0.5em 0.4em;box-sizing: border-box;padding-bottom: 0.4em;background-color: white;}#sk-container-id-2 div.sk-label label {font-family: monospace;font-weight: bold;display: inline-block;line-height: 1.2em;}#sk-container-id-2 div.sk-label-container {text-align: center;}#sk-container-id-2 div.sk-container {/* jupyter's `normalize.less` sets `[hidden] { display: none; }` but bootstrap.min.css set `[hidden] { display: none !important; }` so we also need the `!important` here to be able to override the default hidden behavior on the sphinx rendered scikit-learn.org. See: https://github.com/scikit-learn/scikit-learn/issues/21755 */display: inline-block !important;position: relative;}#sk-container-id-2 div.sk-text-repr-fallback {display: none;}</style><div id=\"sk-container-id-2\" class=\"sk-top-container\"><div class=\"sk-text-repr-fallback\"><pre>GaussianNB()</pre><b>In a Jupyter environment, please rerun this cell to show the HTML representation or trust the notebook. <br />On GitHub, the HTML representation is unable to render, please try loading this page with nbviewer.org.</b></div><div class=\"sk-container\" hidden><div class=\"sk-item\"><div class=\"sk-estimator sk-toggleable\"><input class=\"sk-toggleable__control sk-hidden--visually\" id=\"sk-estimator-id-2\" type=\"checkbox\" checked><label for=\"sk-estimator-id-2\" class=\"sk-toggleable__label sk-toggleable__label-arrow\">GaussianNB</label><div class=\"sk-toggleable__content\"><pre>GaussianNB()</pre></div></div></div></div></div>"
      ],
      "text/plain": [
       "GaussianNB()"
      ]
     },
     "execution_count": 56,
     "metadata": {},
     "output_type": "execute_result"
    }
   ],
   "source": [
    "#Let's use GaussianNB first\n",
    "\n",
    "classifier = GaussianNB()\n",
    "classifier.fit(x_train, y_train)"
   ]
  },
  {
   "cell_type": "code",
   "execution_count": 57,
   "id": "74a4f26d-79a4-436f-8a1b-8a793d85b787",
   "metadata": {},
   "outputs": [
    {
     "data": {
      "text/plain": [
       "<Axes: >"
      ]
     },
     "execution_count": 57,
     "metadata": {},
     "output_type": "execute_result"
    },
    {
     "data": {
      "image/png": "[encoded data removed]",
      "text/plain": [
       "<Figure size 640x480 with 2 Axes>"
      ]
     },
     "metadata": {},
     "output_type": "display_data"
    }
   ],
   "source": [
    "y_pred = classifier.predict(x_test)\n",
    "cm = confusion_matrix(y_test, y_pred)\n",
    "sns.heatmap(cm, annot = True, fmt='.2f')"
   ]
  },
  {
   "cell_type": "code",
   "execution_count": 58,
   "id": "8649a7bd-74f2-474b-984e-32a10a78ec1c",
   "metadata": {},
   "outputs": [
    {
     "data": {
      "text/plain": [
       "0.63"
      ]
     },
     "execution_count": 58,
     "metadata": {},
     "output_type": "execute_result"
    }
   ],
   "source": [
    "round(accuracy_score(y_test, y_pred), 3)"
   ]
  },
  {
   "cell_type": "code",
   "execution_count": 59,
   "id": "1c48b1b3-71b3-458d-afca-573bf541efae",
   "metadata": {},
   "outputs": [
    {
     "data": {
      "text/plain": [
       "<Axes: >"
      ]
     },
     "execution_count": 59,
     "metadata": {},
     "output_type": "execute_result"
    },
    {
     "data": {
      "image/png": "[encoded data removed]",
      "text/plain": [
       "<Figure size 640x480 with 2 Axes>"
      ]
     },
     "metadata": {},
     "output_type": "display_data"
    }
   ],
   "source": [
    "#Now using BernaulliNB\n",
    "\n",
    "classifier2 = BernoulliNB()\n",
    "classifier2.fit(x_train, y_train)\n",
    "\n",
    "y_pred2 = classifier2.predict(x_test)\n",
    "cm = confusion_matrix(y_test, y_pred2)\n",
    "sns.heatmap(cm, annot = True, fmt='.2f')"
   ]
  },
  {
   "cell_type": "code",
   "execution_count": 98,
   "id": "4adb232e-ab37-4ebb-93d9-ff9e70651925",
   "metadata": {},
   "outputs": [
    {
     "data": {
      "text/plain": [
       "0.81"
      ]
     },
     "execution_count": 98,
     "metadata": {},
     "output_type": "execute_result"
    }
   ],
   "source": [
    "round(accuracy_score(y_test, y_pred2), 3)"
   ]
  },
  {
   "cell_type": "code",
   "execution_count": 60,
   "id": "a96785b8-4893-46a2-ad7b-5d673dc12de7",
   "metadata": {},
   "outputs": [
    {
     "data": {
      "text/plain": [
       "0.916"
      ]
     },
     "execution_count": 60,
     "metadata": {},
     "output_type": "execute_result"
    }
   ],
   "source": [
    "y_pred_train2 = classifier2.predict(x_train)\n",
    "round(accuracy_score(y_train, y_pred_train2), 3)"
   ]
  },
  {
   "cell_type": "code",
   "execution_count": 61,
   "id": "0645b0a5-f009-4dac-a968-b44b96989893",
   "metadata": {
    "scrolled": true
   },
   "outputs": [
    {
     "name": "stdout",
     "output_type": "stream",
     "text": [
      "              precision    recall  f1-score   support\n",
      "\n",
      "           0       0.77      0.88      0.82       429\n",
      "           1       0.86      0.74      0.79       420\n",
      "\n",
      "    accuracy                           0.81       849\n",
      "   macro avg       0.82      0.81      0.81       849\n",
      "weighted avg       0.82      0.81      0.81       849\n",
      "\n"
     ]
    }
   ],
   "source": [
    "print(classification_report(y_test, y_pred2))"
   ]
  },
  {
   "cell_type": "markdown",
   "id": "8c990227-1744-4bc6-b995-741b19a67864",
   "metadata": {},
   "source": [
    "Thus we see that the BernoulliNB model is best to use and not the Gaussian for this dataset. Also, model performance is not significantly changed with the change in the type of vectorization. Hence we will use some other form of word vectorization now other than BogOfWords and see the change. <br/>\n",
    "BoW model ignores the sentence structure or the word sequences in a sentence. n-grams model takes care of that. The meaning of the words may change depending on the words it is preceding or succeeding. For example, in the sentence 'I am not happy' this not happy should be considered as one unit instead of two separate words. n-gram takes care of this fact and is a contiguous sequence of n words. When two consecutive words are treated as one unit, it is called bigram, for three consecutive words it is called trigram, and so on.  Let's use n-grams now -"
   ]
  },
  {
   "cell_type": "code",
   "execution_count": 62,
   "id": "3372ef05-51a1-4368-a411-45793bf20158",
   "metadata": {},
   "outputs": [],
   "source": [
    "tfidf2 = TfidfVectorizer(ngram_range=(1,2), max_features=5000)\n",
    "feature2 = tfidf2.fit_transform(df['clean_text'])"
   ]
  },
  {
   "cell_type": "code",
   "execution_count": 63,
   "id": "6ef3ec07-a653-405d-924e-01e7eee66d59",
   "metadata": {},
   "outputs": [],
   "source": [
    "x = feature2.toarray()"
   ]
  },
  {
   "cell_type": "code",
   "execution_count": 64,
   "id": "b93ae07f-84c1-4332-86ff-06a8cc9ef34a",
   "metadata": {},
   "outputs": [],
   "source": [
    "x_train, x_test, y_train, y_test = train_test_split(x, y, test_size = 0.10, random_state = 42)"
   ]
  },
  {
   "cell_type": "code",
   "execution_count": 65,
   "id": "f3794b60-a984-4db0-ab9e-17c1e6bbcff1",
   "metadata": {},
   "outputs": [
    {
     "data": {
      "text/plain": [
       "<Axes: >"
      ]
     },
     "execution_count": 65,
     "metadata": {},
     "output_type": "execute_result"
    },
    {
     "data": {
      "image/png": "[encoded data removed]",
      "text/plain": [
       "<Figure size 640x480 with 2 Axes>"
      ]
     },
     "metadata": {},
     "output_type": "display_data"
    }
   ],
   "source": [
    "#using bernaulli since its performing best\n",
    "#Now using BernaulliNB\n",
    "\n",
    "classifier = BernoulliNB()\n",
    "classifier.fit(x_train, y_train)\n",
    "\n",
    "y_pred = classifier.predict(x_test)\n",
    "cm = confusion_matrix(y_test, y_pred)\n",
    "sns.heatmap(cm, annot = True, fmt='.2f')"
   ]
  },
  {
   "cell_type": "code",
   "execution_count": 66,
   "id": "a6b5d4c7-0e20-4045-abe0-0202686dd6e4",
   "metadata": {},
   "outputs": [
    {
     "data": {
      "text/plain": [
       "0.8244994110718492"
      ]
     },
     "execution_count": 66,
     "metadata": {},
     "output_type": "execute_result"
    }
   ],
   "source": [
    "accuracy_score(y_test, y_pred)"
   ]
  },
  {
   "cell_type": "code",
   "execution_count": 67,
   "id": "6950556e-fade-4dab-ab03-06e7a926a7a1",
   "metadata": {},
   "outputs": [
    {
     "name": "stdout",
     "output_type": "stream",
     "text": [
      "              precision    recall  f1-score   support\n",
      "\n",
      "           0       0.82      0.84      0.83       429\n",
      "           1       0.83      0.81      0.82       420\n",
      "\n",
      "    accuracy                           0.82       849\n",
      "   macro avg       0.82      0.82      0.82       849\n",
      "weighted avg       0.82      0.82      0.82       849\n",
      "\n"
     ]
    }
   ],
   "source": [
    "print(classification_report(y_test, y_pred))"
   ]
  },
  {
   "cell_type": "markdown",
   "id": "ea63268b-8ab9-4a9c-8dff-3002577057aa",
   "metadata": {},
   "source": [
    "After changing the vectorizer type and using Bernaulli, we are able to achieve 82.4% accuracy. We jumped from 62.5% accuracy to 82.4% accuracy. There might be a bit of overfitting. So let's try to clean up the dataset first -"
   ]
  },
  {
   "cell_type": "code",
   "execution_count": 69,
   "id": "36556d47-7a3c-4670-b967-ec6e253730ad",
   "metadata": {},
   "outputs": [],
   "source": [
    "#removing the words of 1 letter or 0 letter\n",
    "sentences_clean = []\n",
    "for listed in df['clean_text'].str.split(' '):\n",
    "    review = [word for word in listed if len(word) != 1 and len(word) != 0]\n",
    "    review = ' '.join(review)\n",
    "    sentences_clean.append(review)"
   ]
  },
  {
   "cell_type": "code",
   "execution_count": 70,
   "id": "2e7b0e76-7b1a-4c85-b8f9-d306723bd3a7",
   "metadata": {},
   "outputs": [],
   "source": [
    "#removing all same letters from string\n",
    "\n",
    "def allCharactersSame(s) :\n",
    "    n = len(s)\n",
    "    for i in range(1, n) :\n",
    "        if s[i] != s[0] :\n",
    "            return False\n",
    " \n",
    "    return True\n",
    "\n",
    "\n",
    "cleaned = []\n",
    "for sentences in sentences_clean:\n",
    "    word_list = []\n",
    "    for word in sentences.split(' '):\n",
    "        if allCharactersSame(word):\n",
    "            pass\n",
    "        else:\n",
    "            word_list.append(word)\n",
    "    \n",
    "    word_list = ' '.join(word_list)\n",
    "    cleaned.append(word_list)\n"
   ]
  },
  {
   "cell_type": "code",
   "execution_count": 71,
   "id": "905023c9-3e0e-4de3-8e22-b91163e474e1",
   "metadata": {},
   "outputs": [],
   "source": [
    "df['clean_text'] = cleaned"
   ]
  },
  {
   "cell_type": "code",
   "execution_count": 72,
   "id": "4fc1804f-0516-4ec7-b49d-71f8d5badde6",
   "metadata": {},
   "outputs": [
    {
     "data": {
      "text/html": [
       "<div>\n",
       "<style scoped>\n",
       "    .dataframe tbody tr th:only-of-type {\n",
       "        vertical-align: middle;\n",
       "    }\n",
       "\n",
       "    .dataframe tbody tr th {\n",
       "        vertical-align: top;\n",
       "    }\n",
       "\n",
       "    .dataframe thead th {\n",
       "        text-align: right;\n",
       "    }\n",
       "</style>\n",
       "<table border=\"1\" class=\"dataframe\">\n",
       "  <thead>\n",
       "    <tr style=\"text-align: right;\">\n",
       "      <th></th>\n",
       "      <th>text</th>\n",
       "      <th>label</th>\n",
       "      <th>clean_text</th>\n",
       "    </tr>\n",
       "  </thead>\n",
       "  <tbody>\n",
       "    <tr>\n",
       "      <th>0</th>\n",
       "      <td>I grew up (b. 1965) watching and loving the Th...</td>\n",
       "      <td>0</td>\n",
       "      <td>grew watch love thunderbird mate school watch ...</td>\n",
       "    </tr>\n",
       "    <tr>\n",
       "      <th>1</th>\n",
       "      <td>When I put this movie in my DVD player, and sa...</td>\n",
       "      <td>0</td>\n",
       "      <td>put movi dvd player sat coke chip expect hope ...</td>\n",
       "    </tr>\n",
       "    <tr>\n",
       "      <th>2</th>\n",
       "      <td>Why do people who do not know what a particula...</td>\n",
       "      <td>0</td>\n",
       "      <td>peopl know particular time past like feel need...</td>\n",
       "    </tr>\n",
       "    <tr>\n",
       "      <th>3</th>\n",
       "      <td>Even though I have great interest in Biblical ...</td>\n",
       "      <td>0</td>\n",
       "      <td>even though great interest biblic movi bore de...</td>\n",
       "    </tr>\n",
       "    <tr>\n",
       "      <th>4</th>\n",
       "      <td>Im a die hard Dads Army fan and nothing will e...</td>\n",
       "      <td>1</td>\n",
       "      <td>im die hard dad armi fan noth ever chang got t...</td>\n",
       "    </tr>\n",
       "  </tbody>\n",
       "</table>\n",
       "</div>"
      ],
      "text/plain": [
       "                                                text  label  \\\n",
       "0  I grew up (b. 1965) watching and loving the Th...      0   \n",
       "1  When I put this movie in my DVD player, and sa...      0   \n",
       "2  Why do people who do not know what a particula...      0   \n",
       "3  Even though I have great interest in Biblical ...      0   \n",
       "4  Im a die hard Dads Army fan and nothing will e...      1   \n",
       "\n",
       "                                          clean_text  \n",
       "0  grew watch love thunderbird mate school watch ...  \n",
       "1  put movi dvd player sat coke chip expect hope ...  \n",
       "2  peopl know particular time past like feel need...  \n",
       "3  even though great interest biblic movi bore de...  \n",
       "4  im die hard dad armi fan noth ever chang got t...  "
      ]
     },
     "execution_count": 72,
     "metadata": {},
     "output_type": "execute_result"
    }
   ],
   "source": [
    "df.head()"
   ]
  },
  {
   "cell_type": "markdown",
   "id": "8b26208b-6302-4b3f-b613-85318a0463af",
   "metadata": {},
   "source": [
    "Now let's perform vectorizer and classifiers -"
   ]
  },
  {
   "cell_type": "code",
   "execution_count": 73,
   "id": "f65fc30d-d46f-4848-8a3d-8ea1eed73cb1",
   "metadata": {},
   "outputs": [],
   "source": [
    "tfidf = TfidfVectorizer(ngram_range=(1,2), max_features=10000)\n",
    "feature = tfidf.fit_transform(df['clean_text'])"
   ]
  },
  {
   "cell_type": "code",
   "execution_count": 74,
   "id": "088ddd24-69a8-483d-8df3-943908b8db89",
   "metadata": {},
   "outputs": [],
   "source": [
    "x = feature.toarray()\n",
    "x_train, x_test, y_train, y_test = train_test_split(x, y, test_size = 0.10, random_state = 42)"
   ]
  },
  {
   "cell_type": "code",
   "execution_count": 75,
   "id": "03e10008-4538-4ef3-b6b6-f888d2272d13",
   "metadata": {},
   "outputs": [
    {
     "data": {
      "text/plain": [
       "<Axes: >"
      ]
     },
     "execution_count": 75,
     "metadata": {},
     "output_type": "execute_result"
    },
    {
     "data": {
      "image/png": "[encoded data removed]",
      "text/plain": [
       "<Figure size 640x480 with 2 Axes>"
      ]
     },
     "metadata": {},
     "output_type": "display_data"
    }
   ],
   "source": [
    "#using bernaulli since its performing best\n",
    "#Now using BernaulliNB\n",
    "\n",
    "classifier = BernoulliNB()\n",
    "classifier.fit(x_train, y_train)\n",
    "\n",
    "y_pred = classifier.predict(x_test)\n",
    "cm = confusion_matrix(y_test, y_pred)\n",
    "sns.heatmap(cm, annot = True, fmt='.2f')"
   ]
  },
  {
   "cell_type": "code",
   "execution_count": 76,
   "id": "b8567133-4305-48b8-a510-220cc70274c0",
   "metadata": {},
   "outputs": [
    {
     "data": {
      "text/plain": [
       "0.823321554770318"
      ]
     },
     "execution_count": 76,
     "metadata": {},
     "output_type": "execute_result"
    }
   ],
   "source": [
    "accuracy_score(y_test, y_pred)"
   ]
  },
  {
   "cell_type": "code",
   "execution_count": 77,
   "id": "258df03f-8b0a-4482-becf-2446f2ce6d7c",
   "metadata": {},
   "outputs": [],
   "source": [
    "y_pred1 = classifier.predict(x_train)"
   ]
  },
  {
   "cell_type": "code",
   "execution_count": 78,
   "id": "d99dec3d-d6f9-4d44-88e9-121c9c5f72b4",
   "metadata": {},
   "outputs": [
    {
     "data": {
      "text/plain": [
       "0.8984160230396648"
      ]
     },
     "execution_count": 78,
     "metadata": {},
     "output_type": "execute_result"
    }
   ],
   "source": [
    "#training accuracy calculation\n",
    "accuracy_score(y_train, y_pred1)"
   ]
  },
  {
   "cell_type": "markdown",
   "id": "1a22adc3-0d43-4072-952e-6d96ddeb722b",
   "metadata": {},
   "source": [
    "As we can see after trying out all the methods, we came up with 82.3% accuracy and the accuracy out of training data is 89.8%. This shows there is a little bit of overfitting is still there in the model. We can try GridSearchCV to get the best parameter for the model. But I will continue with the accuracy of 82.3% which is quiet good looking into the training accuracy we are getting."
   ]
  },
  {
   "cell_type": "markdown",
   "id": "db350851-3df6-45d1-a57f-bf6aaba0bc55",
   "metadata": {},
   "source": [
    "Let's test the model with complete unseen data."
   ]
  },
  {
   "cell_type": "markdown",
   "id": "3ecc4d51",
   "metadata": {},
   "source": [
    "##### Fresh dataset"
   ]
  },
  {
   "cell_type": "code",
   "execution_count": 89,
   "id": "379a89a0",
   "metadata": {},
   "outputs": [],
   "source": [
    "#This is something I have written for testing\n",
    "reviews = [\n",
    "    \"I didn't liked the movie. It was so boring.\",\n",
    "    'I am not happy that the movie ended so badly',\n",
    "    \"The movie is terrific. It's a must watch for every one.\"\n",
    "]"
   ]
  },
  {
   "cell_type": "code",
   "execution_count": 90,
   "id": "e54664fb",
   "metadata": {},
   "outputs": [
    {
     "data": {
      "text/html": [
       "<div>\n",
       "<style scoped>\n",
       "    .dataframe tbody tr th:only-of-type {\n",
       "        vertical-align: middle;\n",
       "    }\n",
       "\n",
       "    .dataframe tbody tr th {\n",
       "        vertical-align: top;\n",
       "    }\n",
       "\n",
       "    .dataframe thead th {\n",
       "        text-align: right;\n",
       "    }\n",
       "</style>\n",
       "<table border=\"1\" class=\"dataframe\">\n",
       "  <thead>\n",
       "    <tr style=\"text-align: right;\">\n",
       "      <th></th>\n",
       "      <th>Text</th>\n",
       "    </tr>\n",
       "  </thead>\n",
       "  <tbody>\n",
       "    <tr>\n",
       "      <th>0</th>\n",
       "      <td>I didn't liked the movie. It was so boring.</td>\n",
       "    </tr>\n",
       "    <tr>\n",
       "      <th>1</th>\n",
       "      <td>I am not happy that the movie ended so badly</td>\n",
       "    </tr>\n",
       "    <tr>\n",
       "      <th>2</th>\n",
       "      <td>The movie is terrific. It's a must watch for e...</td>\n",
       "    </tr>\n",
       "  </tbody>\n",
       "</table>\n",
       "</div>"
      ],
      "text/plain": [
       "                                                Text\n",
       "0        I didn't liked the movie. It was so boring.\n",
       "1       I am not happy that the movie ended so badly\n",
       "2  The movie is terrific. It's a must watch for e..."
      ]
     },
     "execution_count": 90,
     "metadata": {},
     "output_type": "execute_result"
    }
   ],
   "source": [
    "dataframe = pd.DataFrame({'Text':reviews})\n",
    "dataframe"
   ]
  },
  {
   "cell_type": "code",
   "execution_count": 91,
   "id": "7dcd4b34-fe23-4232-8a0d-3fe2497c5740",
   "metadata": {},
   "outputs": [],
   "source": [
    "#cleaning up the data and applying stemming\n",
    "test_sent = get_clean_text(dataframe, 'Text')"
   ]
  },
  {
   "cell_type": "code",
   "execution_count": 92,
   "id": "db7de7a2",
   "metadata": {},
   "outputs": [
    {
     "data": {
      "text/plain": [
       "['like movi bore', 'happi movi end badli', 'movi terrif must watch everi one']"
      ]
     },
     "execution_count": 92,
     "metadata": {},
     "output_type": "execute_result"
    }
   ],
   "source": [
    "test_sent"
   ]
  },
  {
   "cell_type": "code",
   "execution_count": 94,
   "id": "f507be32",
   "metadata": {},
   "outputs": [
    {
     "data": {
      "text/plain": [
       "array([[0., 0., 0., ..., 0., 0., 0.],\n",
       "       [0., 0., 0., ..., 0., 0., 0.],\n",
       "       [0., 0., 0., ..., 0., 0., 0.]])"
      ]
     },
     "execution_count": 94,
     "metadata": {},
     "output_type": "execute_result"
    }
   ],
   "source": [
    "#converting into vectors using last trained n-grams model\n",
    "x1 = tfidf.transform(test_sent).toarray()\n",
    "x1"
   ]
  },
  {
   "cell_type": "code",
   "execution_count": 95,
   "id": "4c9693fc",
   "metadata": {},
   "outputs": [
    {
     "data": {
      "text/plain": [
       "array([0, 0, 1], dtype=int64)"
      ]
     },
     "execution_count": 95,
     "metadata": {},
     "output_type": "execute_result"
    }
   ],
   "source": [
    "#predicting unseen data using last trained classifier\n",
    "y_pred_res = classifier.predict(x1)\n",
    "y_pred_res"
   ]
  },
  {
   "cell_type": "code",
   "execution_count": 96,
   "id": "77d870c7",
   "metadata": {},
   "outputs": [],
   "source": [
    "dataframe['predictions'] = y_pred_res.tolist()"
   ]
  },
  {
   "cell_type": "code",
   "execution_count": 97,
   "id": "307e24d7",
   "metadata": {},
   "outputs": [
    {
     "data": {
      "text/html": [
       "<div>\n",
       "<style scoped>\n",
       "    .dataframe tbody tr th:only-of-type {\n",
       "        vertical-align: middle;\n",
       "    }\n",
       "\n",
       "    .dataframe tbody tr th {\n",
       "        vertical-align: top;\n",
       "    }\n",
       "\n",
       "    .dataframe thead th {\n",
       "        text-align: right;\n",
       "    }\n",
       "</style>\n",
       "<table border=\"1\" class=\"dataframe\">\n",
       "  <thead>\n",
       "    <tr style=\"text-align: right;\">\n",
       "      <th></th>\n",
       "      <th>Text</th>\n",
       "      <th>predictions</th>\n",
       "    </tr>\n",
       "  </thead>\n",
       "  <tbody>\n",
       "    <tr>\n",
       "      <th>0</th>\n",
       "      <td>I didn't liked the movie. It was so boring.</td>\n",
       "      <td>0</td>\n",
       "    </tr>\n",
       "    <tr>\n",
       "      <th>1</th>\n",
       "      <td>I am not happy that the movie ended so badly</td>\n",
       "      <td>0</td>\n",
       "    </tr>\n",
       "    <tr>\n",
       "      <th>2</th>\n",
       "      <td>The movie is terrific. It's a must watch for e...</td>\n",
       "      <td>1</td>\n",
       "    </tr>\n",
       "  </tbody>\n",
       "</table>\n",
       "</div>"
      ],
      "text/plain": [
       "                                                Text  predictions\n",
       "0        I didn't liked the movie. It was so boring.            0\n",
       "1       I am not happy that the movie ended so badly            0\n",
       "2  The movie is terrific. It's a must watch for e...            1"
      ]
     },
     "execution_count": 97,
     "metadata": {},
     "output_type": "execute_result"
    }
   ],
   "source": [
    "dataframe"
   ]
  },
  {
   "cell_type": "markdown",
   "id": "1d9ce69a-1e9b-4542-9deb-2bad8e4a0a54",
   "metadata": {},
   "source": [
    "As we can see, the predictions of negative and positive are correct as per our data input which is unseen for our model. Now you can create your own text analytics model using the above procedure. Happy Coding :)"
   ]
  },
  {
   "cell_type": "code",
   "execution_count": null,
   "id": "81114d53-ec43-4a3a-9278-c5f8ba704fe9",
   "metadata": {},
   "outputs": [],
   "source": []
  }
 ],
 "metadata": {
  "kernelspec": {
   "display_name": "Python 3 (ipykernel)",
   "language": "python",
   "name": "python3"
  },
  "language_info": {
   "codemirror_mode": {
    "name": "ipython",
    "version": 3
   },
   "file_extension": ".py",
   "mimetype": "text/x-python",
   "name": "python",
   "nbconvert_exporter": "python",
   "pygments_lexer": "ipython3",
   "version": "3.8.10"
  }
 },
 "nbformat": 4,
 "nbformat_minor": 5
}
